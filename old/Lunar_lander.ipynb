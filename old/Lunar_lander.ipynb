{
 "cells": [
  {
   "cell_type": "code",
   "execution_count": 1,
   "id": "79b6176b",
   "metadata": {},
   "outputs": [],
   "source": [
    "import gymnasium as gym\n",
    "import matplotlib.pyplot as plt\n",
    "\n",
    "import time"
   ]
  },
  {
   "cell_type": "code",
   "execution_count": 2,
   "id": "1472a59c",
   "metadata": {},
   "outputs": [
    {
     "data": {
      "image/png": "[encoded data removed]",
      "text/plain": [
       "<Figure size 640x480 with 1 Axes>"
      ]
     },
     "metadata": {},
     "output_type": "display_data"
    }
   ],
   "source": [
    "env = gym.make(\"LunarLander-v3\", render_mode=\"rgb_array\")  \n",
    "obs, _ = env.reset()\n",
    "frame = env.render()\n",
    "\n",
    "plt.imshow(frame)\n",
    "plt.axis('off')\n",
    "plt.show()\n",
    "\n",
    "env.close()\n"
   ]
  },
  {
   "cell_type": "markdown",
   "id": "500b80a6",
   "metadata": {},
   "source": [
    "## The environment\n",
    "\n",
    "We have:\n",
    "\n",
    "* __States__ -  A set of states present in the environment \n",
    "* __Actions__ - A set of actions that the agent can perform in each state. \n",
    "* __Reward function__ - Reward function is denoted by $R(s,a,s')$. It implies the reward the agent obtains moving from a state $s$ to the state  $s'$ while performing an action $a$.\n",
    "* __Transition probability__ - The transition probability is denoted by $P(s'|s,a) $. It implies the probability of moving from a state $s$ to the state $s'$ while performing an action $a$.\n",
    "\n",
    "Let's now understand how to obtain all the above information from the frozen lake environment we just created using the gym."
   ]
  },
  {
   "cell_type": "markdown",
   "id": "0cec19af",
   "metadata": {},
   "source": [
    "## States\n",
    "A state space consists of all of our states. We can obtain the number of states in our environment by just typing `env.observation_space` as shown below:"
   ]
  },
  {
   "cell_type": "code",
   "execution_count": 3,
   "id": "b708e440",
   "metadata": {},
   "outputs": [
    {
     "data": {
      "text/plain": [
       "Box([ -2.5        -2.5       -10.        -10.         -6.2831855 -10.\n",
       "  -0.         -0.       ], [ 2.5        2.5       10.        10.         6.2831855 10.\n",
       "  1.         1.       ], (8,), float32)"
      ]
     },
     "execution_count": 3,
     "metadata": {},
     "output_type": "execute_result"
    }
   ],
   "source": [
    "env.observation_space"
   ]
  },
  {
   "cell_type": "markdown",
   "id": "aecb3fa2",
   "metadata": {},
   "source": [
    "## Actions\n",
    "\n",
    "We learned that the action space consists of all the possible actions in the environment. We can obtain the action space by `env.action_space` as shown below:"
   ]
  },
  {
   "cell_type": "code",
   "execution_count": 4,
   "id": "31a1a374",
   "metadata": {},
   "outputs": [
    {
     "name": "stdout",
     "output_type": "stream",
     "text": [
      "Discrete(4)\n"
     ]
    }
   ],
   "source": [
    "print(env.action_space)"
   ]
  },
  {
   "cell_type": "code",
   "execution_count": 13,
   "id": "3fcb721e",
   "metadata": {},
   "outputs": [
    {
     "name": "stdout",
     "output_type": "stream",
     "text": [
      "Episode: 0, Step: 0, Return: -0.3169491250121155\n",
      "Episode: 0, Step: 2, Return: -1.2807156564561217\n",
      "Episode: 0, Step: 4, Return: -2.893184157192136\n",
      "Episode: 0, Step: 6, Return: -7.590456776216849\n",
      "Episode: 0, Step: 8, Return: -8.638719066178274\n",
      "Episode: 0, Step: 10, Return: -11.386006207206195\n",
      "Episode: 0, Step: 12, Return: -11.608106230643106\n",
      "Episode: 0, Step: 14, Return: -14.764848721803762\n",
      "Episode: 0, Step: 16, Return: -17.518471310869472\n",
      "Episode: 0, Step: 18, Return: -16.160997958538207\n",
      "Episode: 0, Step: 20, Return: -19.25725640903861\n",
      "Episode: 0, Step: 22, Return: -19.752216229397387\n",
      "Episode: 0, Step: 24, Return: -21.665707598254155\n",
      "Episode: 0, Step: 26, Return: -20.35649607302726\n",
      "Episode: 0, Step: 28, Return: -21.83706169081694\n",
      "Episode: 0, Step: 30, Return: -22.178206044864464\n",
      "Episode: 0, Step: 32, Return: -22.700499994300458\n",
      "Episode: 0, Step: 34, Return: -27.06706189209396\n",
      "Episode: 0, Step: 36, Return: -32.964671137246455\n",
      "Episode: 0, Step: 38, Return: -35.56583846244203\n",
      "Episode: 0, Step: 40, Return: -39.28098604529947\n",
      "Episode: 0, Step: 42, Return: -43.905538692708234\n",
      "Episode: 0, Step: 44, Return: -45.019039500295335\n",
      "Episode: 0, Step: 46, Return: -45.59849732669153\n",
      "Episode: 0, Step: 48, Return: -44.85587952092445\n",
      "Episode: 0, Step: 50, Return: -46.40115335479118\n",
      "Episode: 0, Step: 52, Return: -49.18877080712943\n",
      "Episode: 0, Step: 54, Return: -51.54819286137945\n",
      "Episode: 0, Step: 56, Return: -52.066748355619524\n",
      "Episode: 0, Step: 58, Return: -55.67574714982453\n",
      "Episode: 0, Step: 60, Return: -56.78339777730014\n",
      "Episode: 0, Step: 62, Return: -54.30947917840659\n",
      "Episode: 0, Step: 64, Return: -55.87782839329158\n",
      "Episode: 0, Step: 66, Return: -56.483618499254064\n",
      "Episode: 0, Step: 68, Return: -57.60717390639216\n",
      "Episode: 0, Step: 70, Return: -57.02097639460462\n"
     ]
    },
    {
     "ename": "KeyboardInterrupt",
     "evalue": "",
     "output_type": "error",
     "traceback": [
      "\u001b[0;31m---------------------------------------------------------------------------\u001b[0m",
      "\u001b[0;31mKeyboardInterrupt\u001b[0m                         Traceback (most recent call last)",
      "Cell \u001b[0;32mIn[13], line 30\u001b[0m\n\u001b[1;32m     27\u001b[0m \u001b[38;5;66;03m#update the return\u001b[39;00m\n\u001b[1;32m     28\u001b[0m Return \u001b[38;5;241m=\u001b[39m Return \u001b[38;5;241m+\u001b[39m reward\n\u001b[0;32m---> 30\u001b[0m \u001b[43mtime\u001b[49m\u001b[38;5;241;43m.\u001b[39;49m\u001b[43msleep\u001b[49m\u001b[43m(\u001b[49m\u001b[38;5;241;43m1\u001b[39;49m\u001b[43m)\u001b[49m\n\u001b[1;32m     32\u001b[0m \u001b[38;5;66;03m#for every 2 steps, print the return (sum of rewards)\u001b[39;00m\n\u001b[1;32m     33\u001b[0m \u001b[38;5;28;01mif\u001b[39;00m n_steps\u001b[38;5;241m%\u001b[39m\u001b[38;5;241m2\u001b[39m\u001b[38;5;241m==\u001b[39m\u001b[38;5;241m0\u001b[39m:\n",
      "\u001b[0;31mKeyboardInterrupt\u001b[0m: "
     ]
    }
   ],
   "source": [
    "num_episodes = 2\n",
    "#for each episode\n",
    "for i in range(num_episodes):\n",
    "    \n",
    "    #set the Return to 0\n",
    "    Return = 0\n",
    "    #initialize the state by resetting the environment\n",
    "    state = env.reset()\n",
    "    # Start Done to False\n",
    "    done = False\n",
    "    # Number of Steps\n",
    "    n_steps = 0\n",
    "    #for each step in the episode\n",
    "    # while not finsihing the environment\n",
    "    while not done:\n",
    "        #render the environment\n",
    "        env.render()\n",
    "        \n",
    "        #randomly select an action by sampling from the environment\n",
    "        # our action is a random action (random policy) \n",
    "        random_action = env.action_space.sample()\n",
    "\n",
    "        #perform the randomly selected action\n",
    "        # give an action to the environment and receive a reward\n",
    "        next_state, reward, done, truncated, info = env.step(random_action)\n",
    "\n",
    "        #update the return\n",
    "        Return = Return + reward\n",
    "        \n",
    "        time.sleep(1)\n",
    "\n",
    "        #for every 2 steps, print the return (sum of rewards)\n",
    "        if n_steps%2==0:\n",
    "            print('Episode: {}, Step: {}, Return: {}'.format(i, n_steps, Return))\n",
    "        n_steps+=1\n",
    "env.close()"
   ]
  },
  {
   "cell_type": "markdown",
   "id": "88352ef8",
   "metadata": {},
   "source": [
    "## Reward function in Tabular Scenarios\n",
    "\n",
    "Now, let's look at how to obtain the reward function. "
   ]
  },
  {
   "cell_type": "code",
   "execution_count": 6,
   "id": "d5ac71dd",
   "metadata": {},
   "outputs": [
    {
     "ename": "AttributeError",
     "evalue": "'LunarLander' object has no attribute 'P'",
     "output_type": "error",
     "traceback": [
      "\u001b[0;31m---------------------------------------------------------------------------\u001b[0m",
      "\u001b[0;31mAttributeError\u001b[0m                            Traceback (most recent call last)",
      "Cell \u001b[0;32mIn[6], line 3\u001b[0m\n\u001b[1;32m      1\u001b[0m \u001b[38;5;66;03m# state 11 and action 0\u001b[39;00m\n\u001b[1;32m      2\u001b[0m env \u001b[38;5;241m=\u001b[39m env\u001b[38;5;241m.\u001b[39munwrapped\n\u001b[0;32m----> 3\u001b[0m \u001b[43menv\u001b[49m\u001b[38;5;241;43m.\u001b[39;49m\u001b[43mP\u001b[49m[\u001b[38;5;241m11\u001b[39m][\u001b[38;5;241m0\u001b[39m]\n",
      "\u001b[0;31mAttributeError\u001b[0m: 'LunarLander' object has no attribute 'P'"
     ]
    }
   ],
   "source": [
    "# state 11 and action 0\n",
    "env = env.unwrapped\n",
    "env.P[11][0]"
   ]
  },
  {
   "cell_type": "code",
   "execution_count": 5,
   "id": "e3bab744",
   "metadata": {},
   "outputs": [
    {
     "ename": "AttributeError",
     "evalue": "'LunarLander' object has no attribute 'P'",
     "output_type": "error",
     "traceback": [
      "\u001b[0;31m---------------------------------------------------------------------------\u001b[0m",
      "\u001b[0;31mAttributeError\u001b[0m                            Traceback (most recent call last)",
      "Cell \u001b[0;32mIn[5], line 3\u001b[0m\n\u001b[1;32m      1\u001b[0m env \u001b[38;5;241m=\u001b[39m env\u001b[38;5;241m.\u001b[39munwrapped\n\u001b[0;32m----> 3\u001b[0m \u001b[38;5;28mprint\u001b[39m(\u001b[43menv\u001b[49m\u001b[38;5;241;43m.\u001b[39;49m\u001b[43mP\u001b[49m[\u001b[38;5;241m0\u001b[39m][\u001b[38;5;241m0\u001b[39m])\n",
      "\u001b[0;31mAttributeError\u001b[0m: 'LunarLander' object has no attribute 'P'"
     ]
    }
   ],
   "source": [
    "env = env.unwrapped\n",
    "\n",
    "print(env.P[0][0])"
   ]
  },
  {
   "cell_type": "code",
   "execution_count": null,
   "id": "31dfee32",
   "metadata": {},
   "outputs": [],
   "source": []
  }
 ],
 "metadata": {
  "kernelspec": {
   "display_name": "Python 3",
   "language": "python",
   "name": "python3"
  },
  "language_info": {
   "codemirror_mode": {
    "name": "ipython",
    "version": 3
   },
   "file_extension": ".py",
   "mimetype": "text/x-python",
   "name": "python",
   "nbconvert_exporter": "python",
   "pygments_lexer": "ipython3",
   "version": "3.10.16"
  }
 },
 "nbformat": 4,
 "nbformat_minor": 5
}
